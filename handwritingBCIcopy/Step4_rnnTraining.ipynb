{
 "cells": [
  {
   "cell_type": "code",
   "execution_count": 1,
   "metadata": {},
   "outputs": [],
   "source": [
    "#This notebook trains a single RNN using all ten sessions of data and a specified train/test partition\n",
    "#(can be 'HeldOutBlocks' or 'HeldOutTrials'). The RNN training process is launched in a separate python kernel. \n",
    "#This notebook then monitors training progress in real-time by loading data files produced by the RNN trainer\n",
    "#and plotting them here, so you can watch how it learns over time. "
   ]
  },
  {
   "cell_type": "code",
   "execution_count": 1,
   "metadata": {},
   "outputs": [
    {
     "name": "stderr",
     "output_type": "stream",
     "text": [
      "/opt/anaconda3/envs/tf-py3.6-1.15.0/lib/python3.6/site-packages/tensorflow/python/framework/dtypes.py:523: FutureWarning: Passing (type, 1) or '1type' as a synonym of type is deprecated; in a future version of numpy, it will be understood as (type, (1,)) / '(1,)type'.\n",
      "  _np_qint8 = np.dtype([(\"qint8\", np.int8, 1)])\n",
      "/opt/anaconda3/envs/tf-py3.6-1.15.0/lib/python3.6/site-packages/tensorflow/python/framework/dtypes.py:524: FutureWarning: Passing (type, 1) or '1type' as a synonym of type is deprecated; in a future version of numpy, it will be understood as (type, (1,)) / '(1,)type'.\n",
      "  _np_quint8 = np.dtype([(\"quint8\", np.uint8, 1)])\n",
      "/opt/anaconda3/envs/tf-py3.6-1.15.0/lib/python3.6/site-packages/tensorflow/python/framework/dtypes.py:525: FutureWarning: Passing (type, 1) or '1type' as a synonym of type is deprecated; in a future version of numpy, it will be understood as (type, (1,)) / '(1,)type'.\n",
      "  _np_qint16 = np.dtype([(\"qint16\", np.int16, 1)])\n",
      "/opt/anaconda3/envs/tf-py3.6-1.15.0/lib/python3.6/site-packages/tensorflow/python/framework/dtypes.py:526: FutureWarning: Passing (type, 1) or '1type' as a synonym of type is deprecated; in a future version of numpy, it will be understood as (type, (1,)) / '(1,)type'.\n",
      "  _np_quint16 = np.dtype([(\"quint16\", np.uint16, 1)])\n",
      "/opt/anaconda3/envs/tf-py3.6-1.15.0/lib/python3.6/site-packages/tensorflow/python/framework/dtypes.py:527: FutureWarning: Passing (type, 1) or '1type' as a synonym of type is deprecated; in a future version of numpy, it will be understood as (type, (1,)) / '(1,)type'.\n",
      "  _np_qint32 = np.dtype([(\"qint32\", np.int32, 1)])\n",
      "/opt/anaconda3/envs/tf-py3.6-1.15.0/lib/python3.6/site-packages/tensorflow/python/framework/dtypes.py:532: FutureWarning: Passing (type, 1) or '1type' as a synonym of type is deprecated; in a future version of numpy, it will be understood as (type, (1,)) / '(1,)type'.\n",
      "  np_resource = np.dtype([(\"resource\", np.ubyte, 1)])\n"
     ]
    }
   ],
   "source": [
    "import numpy as np\n",
    "import scipy.io\n",
    "import scipy.ndimage.filters\n",
    "import os\n",
    "import matplotlib\n",
    "import matplotlib.pyplot as plt\n",
    "import pickle\n",
    "from datetime import datetime\n",
    "from charSeqRNN import charSeqRNN, getDefaultRNNArgs\n",
    "\n",
    "#point this towards the top level dataset directory\n",
    "rootDir = os.path.expanduser('~') + '/AIResearch/handwritingBCIDatacopy/'\n",
    "\n",
    "#train an RNN using data from these specified sessions\n",
    "dataDirs = ['t5.2019.05.08','t5.2019.11.25','t5.2019.12.09','t5.2019.12.11','t5.2019.12.18',\n",
    "            't5.2019.12.20','t5.2020.01.06','t5.2020.01.08','t5.2020.01.13','t5.2020.01.15']\n",
    "\n",
    "#use this train/test partition \n",
    "cvPart = 'HeldOutTrials'\n",
    "\n",
    "#name of the directory where this RNN run will be saved\n",
    "rnnOutputDir = cvPart\n",
    "\n",
    "#all RNN runs are saved in 'Step4_RNNTraining'\n",
    "if not os.path.isdir(rootDir + 'RNNTrainingSteps/Step4_RNNTraining'):\n",
    "    os.mkdir(rootDir + 'RNNTrainingSteps/Step4_RNNTraining')"
   ]
  },
  {
   "cell_type": "code",
   "execution_count": 2,
   "metadata": {},
   "outputs": [],
   "source": [
    "#We will use the default arguments specified here\n",
    "args = getDefaultRNNArgs()\n",
    "\n",
    "#Configure the arguments for a multi-day RNN (that will have a unique input layer for each day)\n",
    "for x in range(len(dataDirs)):\n",
    "    args['sentencesFile_'+str(x)] = rootDir+'Datasets/'+dataDirs[x]+'/sentences.mat'\n",
    "    args['singleLettersFile_'+str(x)] = rootDir+'Datasets/'+dataDirs[x]+'/singleLetters.mat'\n",
    "    args['labelsFile_'+str(x)] = rootDir+'RNNTrainingSteps/Step2_HMMLabels/'+cvPart+'/'+dataDirs[x]+'_timeSeriesLabels.mat'\n",
    "    args['syntheticDatasetDir_'+str(x)] = rootDir+'RNNTrainingSteps/Step3_SyntheticSentences/'+cvPart+'/'+dataDirs[x]+'_syntheticSentences/'\n",
    "    args['cvPartitionFile_'+str(x)] = rootDir+'RNNTrainingSteps/trainTestPartitions_'+cvPart+'.mat'\n",
    "    args['sessionName_'+str(x)] = dataDirs[x]\n",
    "    \n",
    "args['outputDir'] = rootDir+'RNNTrainingSteps/Step4_RNNTraining/'+rnnOutputDir\n",
    "if not os.path.isdir(args['outputDir']):\n",
    "    os.mkdir(args['outputDir'])\n",
    "    \n",
    "#this weights each day equally (0.1 probability for each day) and allocates a unique input layer for each day (0-9)\n",
    "args['dayProbability'] = '[0.1,0.1,0.1,0.1,0.1,0.1,0.1,0.1,0.1,0.1]'\n",
    "args['dayToLayerMap'] = '[0,1,2,3,4,5,6,7,8,9]'\n",
    "\n",
    "#save the arguments dictionary so that the RNN program can load it\n",
    "pickle.dump( args, open( args['outputDir'] + '/args.p', \"wb\" ) )"
   ]
  },
  {
   "cell_type": "code",
   "execution_count": 3,
   "metadata": {
    "scrolled": true
   },
   "outputs": [
    {
     "name": "stdout",
     "output_type": "stream",
     "text": [
      "python3 /Users/aashnahari/AIResearch/handwritingBCIcopy/charSeqRNN.py --argsFile=/Users/aashnahari/AIResearch/handwritingBCIDatacopy/RNNTrainingSteps/Step4_RNNTraining/HeldOutTrials/args.p &\n"
     ]
    }
   ],
   "source": [
    "#The following code snippet will launch an RNN training program in a separate python kernel (so it doesn't launch inside\n",
    "#the jupyter notebook, which can be unstable).\n",
    "import os\n",
    "argsFile = args['outputDir'] + '/args.p'\n",
    "scriptFile = os.getcwd()+'/charSeqRNN.py'\n",
    "print('python3 ' + scriptFile + ' --argsFile=' + argsFile + ' &')\n",
    "#os.system('python3 ' + scriptFile + ' --argsFile=' + argsFile + ' &')"
   ]
  },
  {
   "cell_type": "code",
   "execution_count": null,
   "metadata": {
    "scrolled": false
   },
   "outputs": [
    {
     "data": {
      "image/png": "[encoded data removed]",
      "text/plain": [
       "<Figure size 1008x288 with 2 Axes>"
      ]
     },
     "metadata": {},
     "output_type": "display_data"
    }
   ],
   "source": [
    "#Run this cell to visualize the training process in real-time. You can stop it at any time without interrupting the\n",
    "#training.\n",
    "import time\n",
    "from IPython import display\n",
    "from scipy.ndimage.filters import gaussian_filter1d\n",
    "\n",
    "while True:\n",
    "    #The RNN training process periodically saves off performance statistics and a snapshot of RNN outputs, which we load here.\n",
    "    try:\n",
    "        snapshot = scipy.io.loadmat(args['outputDir'] + '/outputSnapshot.mat')\n",
    "        intOut = scipy.io.loadmat(args['outputDir'] + '/intermediateOutput.mat')\n",
    "    except:\n",
    "        time.sleep(30)\n",
    "        continue\n",
    "    \n",
    "    display.clear_output(wait=True)\n",
    "\n",
    "    plotEnd = np.argwhere(intOut['batchTrainStats'][:,0]==0)\n",
    "    plotEnd = plotEnd[1][0]-1\n",
    "    \n",
    "    plotEndVal = np.argwhere(intOut['batchValStats'][:,0]==0)\n",
    "    plotEndVal = plotEndVal[1][0]-1\n",
    "    \n",
    "    #----Training loss & frame-by-frame accuracy----\n",
    "    plt.figure(figsize=(14,4))\n",
    "    plt.subplot(1,2,1)\n",
    "    plt.plot(intOut['batchTrainStats'][0:plotEnd,0], gaussian_filter1d(intOut['batchTrainStats'][0:plotEnd,1], 10))\n",
    "    plt.plot(intOut['batchValStats'][0:plotEndVal,0], gaussian_filter1d(intOut['batchValStats'][0:plotEndVal,1], 1))\n",
    "    plt.plot([0, intOut['batchValStats'][plotEndVal,0]], [0.5, 0.5],'--k') #guidelines for visualization\n",
    "    plt.plot([0, intOut['batchValStats'][plotEndVal,0]], [1.0, 1.0],'--k')\n",
    "    plt.xlabel('Batch #')\n",
    "    plt.legend(['Train','Test'])\n",
    "    plt.ylim([0,3.75])\n",
    "    plt.ylabel('Loss')\n",
    "    \n",
    "    plt.subplot(1,2,2)\n",
    "    plt.plot(intOut['batchTrainStats'][0:plotEnd,0], gaussian_filter1d(intOut['batchTrainStats'][0:plotEnd,3], 10))\n",
    "    plt.plot(intOut['batchValStats'][0:plotEndVal,0], gaussian_filter1d(intOut['batchValStats'][0:plotEndVal,3], 1))\n",
    "    plt.plot([0, intOut['batchValStats'][plotEndVal,0]], [0.8, 0.8],'--k') #guidelines for visualization\n",
    "    plt.plot([0, intOut['batchValStats'][plotEndVal,0]], [0.9, 0.9],'--k')\n",
    "    plt.ylim([0,1.0])\n",
    "    plt.xlabel('Batch #')\n",
    "    plt.legend(['Train','Test'])\n",
    "    plt.ylabel('Frame-by-Frame Accuracy')\n",
    "    \n",
    "    plt.suptitle('Training Progress')\n",
    "\n",
    "    display.display(plt.gcf())\n",
    "    plt.close()\n",
    "        \n",
    "    #----RNN outputs & training targets----\n",
    "    plt.figure(figsize=(12.45, 8.3))\n",
    "    plt.subplot(2,2,1)\n",
    "    plt.imshow(np.transpose(snapshot['inputs']),aspect='auto',clim=[-1,1])\n",
    "    plt.title('Input Features')\n",
    "    plt.ylabel('Electrode #')\n",
    "    plt.xlabel('Time Step')\n",
    "\n",
    "    plt.subplot(2,2,2)\n",
    "    plt.imshow(np.transpose(snapshot['rnnUnits']),aspect='auto',clim=[-1,1])\n",
    "    plt.title('RNN Units')\n",
    "    plt.ylabel('Unit #')\n",
    "    plt.xlabel('Time Step')\n",
    "\n",
    "    plt.subplot(2,2,3)\n",
    "    plt.imshow(np.transpose(snapshot['charProbOutput']),aspect='auto')\n",
    "    plt.title('RNN Probability Outputs (Logits)')\n",
    "    plt.ylabel('Character #')\n",
    "    plt.xlabel('Time Step')\n",
    "\n",
    "    plt.subplot(2,2,4)\n",
    "    plt.imshow(np.transpose(snapshot['charProbTarget']),aspect='auto')\n",
    "    plt.title('Probability One-Hot Targets')\n",
    "    plt.ylabel('Character #')\n",
    "    plt.xlabel('Time Step')\n",
    "\n",
    "    plt.tight_layout(pad=3)\n",
    "    plt.suptitle('Inputs & Outputs for Example Snippet')\n",
    "    display.display(plt.gcf())\n",
    "    plt.close()\n",
    "\n",
    "    plt.figure(figsize=(16,4))\n",
    "    plt.plot(np.squeeze(snapshot['charStartOutput']))\n",
    "    plt.plot(np.squeeze(snapshot['charStartTarget']))\n",
    "    plt.plot(np.squeeze(snapshot['errorWeight']))\n",
    "    plt.plot([0,snapshot['errorWeight'].shape[1]],[0.3,0.3],'--k')\n",
    "    plt.title('Char Start Signal')\n",
    "    plt.xlabel('Time Step')\n",
    "    plt.legend(['RNN Output','Target','Error Weight','Threshold'])\n",
    "    \n",
    "    display.display(plt.gcf())\n",
    "    plt.close()\n",
    "    \n",
    "    time.sleep(30)"
   ]
  },
  {
   "cell_type": "code",
   "execution_count": null,
   "metadata": {
    "collapsed": true
   },
   "outputs": [],
   "source": []
  }
 ],
 "metadata": {
  "kernelspec": {
   "display_name": "Python 3",
   "language": "python",
   "name": "python3"
  },
  "language_info": {
   "codemirror_mode": {
    "name": "ipython",
    "version": 3
   },
   "file_extension": ".py",
   "mimetype": "text/x-python",
   "name": "python",
   "nbconvert_exporter": "python",
   "pygments_lexer": "ipython3",
   "version": "3.6.13"
  }
 },
 "nbformat": 4,
 "nbformat_minor": 2
}
